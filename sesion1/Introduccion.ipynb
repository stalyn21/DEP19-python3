{
 "cells": [
  {
   "cell_type": "code",
   "execution_count": 2,
   "metadata": {},
   "outputs": [
    {
     "name": "stdout",
     "output_type": "stream",
     "text": [
      "Hola Mundo\n"
     ]
    }
   ],
   "source": [
    "print(\"Hola Mundo\")"
   ]
  },
  {
   "cell_type": "markdown",
   "metadata": {},
   "source": [
    "# Identacion"
   ]
  },
  {
   "cell_type": "code",
   "execution_count": 5,
   "metadata": {},
   "outputs": [
    {
     "name": "stdout",
     "output_type": "stream",
     "text": [
      "Es verdadero\n"
     ]
    }
   ],
   "source": [
    "variable = 5\n",
    "\n",
    "if variable == 5:\n",
    "    print(\"Es verdadero\")\n",
    "else:\n",
    "    print(\"Es falso\")"
   ]
  },
  {
   "cell_type": "code",
   "execution_count": 7,
   "metadata": {},
   "outputs": [
    {
     "ename": "IndentationError",
     "evalue": "expected an indented block after 'if' statement on line 3 (552036060.py, line 4)",
     "output_type": "error",
     "traceback": [
      "\u001b[0;36m  Cell \u001b[0;32mIn[7], line 4\u001b[0;36m\u001b[0m\n\u001b[0;31m    print(\"Es verdadero\")\u001b[0m\n\u001b[0m    ^\u001b[0m\n\u001b[0;31mIndentationError\u001b[0m\u001b[0;31m:\u001b[0m expected an indented block after 'if' statement on line 3\n"
     ]
    }
   ],
   "source": [
    "variable = 5\n",
    "\n",
    "if variable == 5:\n",
    "print(\"Es verdadero\")\n",
    "else:\n",
    "    print(\"Es falso\")"
   ]
  },
  {
   "cell_type": "markdown",
   "metadata": {},
   "source": [
    "# Comentarios"
   ]
  },
  {
   "cell_type": "code",
   "execution_count": 10,
   "metadata": {},
   "outputs": [
    {
     "name": "stdout",
     "output_type": "stream",
     "text": [
      "Es verdadero\n",
      "1\n",
      "FIN\n"
     ]
    }
   ],
   "source": [
    "\n",
    "variable = 5\n",
    "\n",
    "# se va a comparar la variable 'variable' con el valor = 5 y tendra como respuesta en caso un print\n",
    "\"\"\"\n",
    "se va a comparar la variable 'variable' con el valor = 5 y tendra como respuesta en caso un print\n",
    "\"\"\"\n",
    "if variable == 5:\n",
    "    print(\"Es verdadero\")\n",
    "    print(1)\n",
    "    print(\"FIN\")\n",
    "else:\n",
    "    print(\"Es falso\")"
   ]
  },
  {
   "cell_type": "markdown",
   "metadata": {},
   "source": [
    "# Variables y tipos de datos"
   ]
  },
  {
   "cell_type": "code",
   "execution_count": 11,
   "metadata": {},
   "outputs": [
    {
     "name": "stdout",
     "output_type": "stream",
     "text": [
      "Juan\n",
      "30\n",
      "1.7\n",
      "True\n"
     ]
    }
   ],
   "source": [
    "nombre = 'Juan' # variable de tipo string\n",
    "edad = 30 # variable de tipo int\n",
    "altura = 1.70 # variable de tipo float\n",
    "es_estudiante = True # variable de tipo bool\n",
    "\n",
    "print(nombre)\n",
    "print(edad)\n",
    "print(altura)\n",
    "print(es_estudiante)"
   ]
  },
  {
   "cell_type": "code",
   "execution_count": 12,
   "metadata": {},
   "outputs": [
    {
     "name": "stdout",
     "output_type": "stream",
     "text": [
      "<class 'str'>\n",
      "<class 'int'>\n",
      "<class 'float'>\n",
      "<class 'bool'>\n"
     ]
    }
   ],
   "source": [
    "print(type(nombre))\n",
    "print(type(edad))\n",
    "print(type(altura))\n",
    "print(type(es_estudiante))"
   ]
  },
  {
   "cell_type": "markdown",
   "metadata": {},
   "source": [
    "# Tipos de datos - Listas"
   ]
  },
  {
   "cell_type": "code",
   "execution_count": 15,
   "metadata": {},
   "outputs": [],
   "source": [
    "# lista vacia\n",
    "lista_1 = []\n",
    "\n",
    "# lista enteros\n",
    "lista_2 = [1,2,3,4,5]\n",
    "\n",
    "# lista strings\n",
    "list_3 = [\"apple\",\"Hello\",\"xyz\"]\n",
    "\n",
    "# lista mixta\n",
    "lista_4 = [2,3,\"Hello\", 44.4]\n",
    "\n",
    "# lista anidada\n",
    "lista_5 = [1,2,[\"Hello\", 44.4], [\"x\"]]"
   ]
  },
  {
   "cell_type": "code",
   "execution_count": 16,
   "metadata": {},
   "outputs": [
    {
     "name": "stdout",
     "output_type": "stream",
     "text": [
      "[1, 2, ['Hello', 44.4], ['x']]\n"
     ]
    }
   ],
   "source": [
    "print(lista_5)"
   ]
  },
  {
   "cell_type": "code",
   "execution_count": 18,
   "metadata": {},
   "outputs": [],
   "source": [
    "# accediendo a elementos en una lista\n",
    "\"\"\"\n",
    "Referencia de indices:\n",
    "a -> 0\n",
    "b -> 1\n",
    "c -> 2\n",
    "d -> 3\n",
    "e -> 4\n",
    "f -> 5\n",
    "\"\"\"\n",
    "lista = [\"a\",\"b\",\"c\",\"d\",\"e\",\"f\"]"
   ]
  },
  {
   "cell_type": "code",
   "execution_count": 22,
   "metadata": {},
   "outputs": [
    {
     "name": "stdout",
     "output_type": "stream",
     "text": [
      "d\n",
      "c\n"
     ]
    }
   ],
   "source": [
    "print(lista[3])\n",
    "print(lista[2])"
   ]
  },
  {
   "cell_type": "code",
   "execution_count": 24,
   "metadata": {},
   "outputs": [
    {
     "name": "stdout",
     "output_type": "stream",
     "text": [
      "Hello\n"
     ]
    }
   ],
   "source": [
    "print(lista_5[2][0])"
   ]
  },
  {
   "cell_type": "code",
   "execution_count": 26,
   "metadata": {},
   "outputs": [
    {
     "name": "stdout",
     "output_type": "stream",
     "text": [
      "['c', 'd', 'e']\n"
     ]
    }
   ],
   "source": [
    "lista = [\"a\",\"b\",\"c\",\"d\",\"e\",\"f\"]\n",
    "# lista[2:4] -> indice 2 hasta la indice 3\n",
    "# lista[2:5] -> indice 2 hasta la indice 4\n",
    "print(lista[2:5])"
   ]
  },
  {
   "cell_type": "markdown",
   "metadata": {},
   "source": [
    "# Tipos de datos - Tuplas"
   ]
  },
  {
   "cell_type": "code",
   "execution_count": 28,
   "metadata": {},
   "outputs": [
    {
     "name": "stdout",
     "output_type": "stream",
     "text": [
      "()\n",
      "(1, 2, 3)\n",
      "(1, 'Hello', 4.4)\n",
      "('apple', 1, [1, 2, 3], (4, 9, 6))\n"
     ]
    }
   ],
   "source": [
    "# Tupla vacia\n",
    "tupla_1 = ()\n",
    "print(tupla_1)\n",
    "\n",
    "# Tupla de enteros\n",
    "tupla_2 = (1,2,3)\n",
    "print(tupla_2)\n",
    "\n",
    "# Tupla mixta\n",
    "tupla_3 = (1,\"Hello\", 4.4)\n",
    "print(tupla_3)\n",
    "\n",
    "# tuplas anidadas\n",
    "tupla_4 = (\"apple\", 1,[1,2,3], (4,9,6))\n",
    "print(tupla_4)\n"
   ]
  },
  {
   "cell_type": "code",
   "execution_count": 31,
   "metadata": {},
   "outputs": [
    {
     "name": "stdout",
     "output_type": "stream",
     "text": [
      "<class 'str'>\n"
     ]
    }
   ],
   "source": [
    "tupla = (\"Hello\")\n",
    "print(type(tupla))"
   ]
  },
  {
   "cell_type": "code",
   "execution_count": 32,
   "metadata": {},
   "outputs": [
    {
     "name": "stdout",
     "output_type": "stream",
     "text": [
      "<class 'tuple'>\n"
     ]
    }
   ],
   "source": [
    "tupla = (\"Hello\",)\n",
    "print(type(tupla))\n"
   ]
  },
  {
   "cell_type": "code",
   "execution_count": 35,
   "metadata": {},
   "outputs": [
    {
     "name": "stdout",
     "output_type": "stream",
     "text": [
      "<class 'tuple'>\n"
     ]
    }
   ],
   "source": [
    "tupla = \"Hello\",3,4.5\n",
    "print(type(tupla))"
   ]
  },
  {
   "cell_type": "code",
   "execution_count": 36,
   "metadata": {},
   "outputs": [
    {
     "name": "stdout",
     "output_type": "stream",
     "text": [
      "<class 'tuple'>\n"
     ]
    }
   ],
   "source": [
    "tupla = \"a\",\"b\",\"c\",\"d\",\"e\",\"f\"\n",
    "print(type(tupla))"
   ]
  },
  {
   "cell_type": "code",
   "execution_count": 42,
   "metadata": {},
   "outputs": [
    {
     "name": "stdout",
     "output_type": "stream",
     "text": [
      "a\n",
      "c\n",
      "9\n",
      "('b', 'c', 'd')\n"
     ]
    }
   ],
   "source": [
    "print(tupla[0])\n",
    "print(tupla[2])\n",
    "print(tupla_4[3][1])\n",
    "print(tupla[1:4])"
   ]
  },
  {
   "cell_type": "markdown",
   "metadata": {},
   "source": [
    "# Tipo de datos - Diccionario"
   ]
  },
  {
   "cell_type": "code",
   "execution_count": 43,
   "metadata": {},
   "outputs": [
    {
     "name": "stdout",
     "output_type": "stream",
     "text": [
      "{'nombre': 'Jhon', 1: [1, 2, 3, 4]}\n"
     ]
    }
   ],
   "source": [
    "# diccionario vacio\n",
    "diccionario_1 = {}\n",
    "\n",
    "# diccionario con claves enteras\n",
    "diccionario_2 = {1:\"Juan\", 2: 'Perez'}\n",
    "\n",
    "# diccionario con claves mixtas\n",
    "diccionario_3 = {\"nombre\":\"Jhon\", 1:[1,2,3,4]}\n",
    "\n",
    "print(diccionario_3)"
   ]
  },
  {
   "cell_type": "code",
   "execution_count": 47,
   "metadata": {},
   "outputs": [
    {
     "ename": "KeyError",
     "evalue": "'direccion'",
     "output_type": "error",
     "traceback": [
      "\u001b[0;31m---------------------------------------------------------------------------\u001b[0m",
      "\u001b[0;31mKeyError\u001b[0m                                  Traceback (most recent call last)",
      "Cell \u001b[0;32mIn[47], line 3\u001b[0m\n\u001b[1;32m      1\u001b[0m diccionario \u001b[38;5;241m=\u001b[39m {\u001b[38;5;124m\"\u001b[39m\u001b[38;5;124mnombre\u001b[39m\u001b[38;5;124m\"\u001b[39m:\u001b[38;5;124m\"\u001b[39m\u001b[38;5;124mJack\u001b[39m\u001b[38;5;124m\"\u001b[39m, \u001b[38;5;124m\"\u001b[39m\u001b[38;5;124medad\u001b[39m\u001b[38;5;124m\"\u001b[39m: \u001b[38;5;241m24\u001b[39m, \u001b[38;5;124m\"\u001b[39m\u001b[38;5;124mpais\u001b[39m\u001b[38;5;124m\"\u001b[39m:\u001b[38;5;124m\"\u001b[39m\u001b[38;5;124mPeru\u001b[39m\u001b[38;5;124m\"\u001b[39m}\n\u001b[0;32m----> 3\u001b[0m \u001b[38;5;28mprint\u001b[39m(\u001b[43mdiccionario\u001b[49m\u001b[43m[\u001b[49m\u001b[38;5;124;43m'\u001b[39;49m\u001b[38;5;124;43mdireccion\u001b[39;49m\u001b[38;5;124;43m'\u001b[39;49m\u001b[43m]\u001b[49m)\n",
      "\u001b[0;31mKeyError\u001b[0m: 'direccion'"
     ]
    }
   ],
   "source": [
    "diccionario = {\"nombre\":\"Jack\", \"edad\": 24, \"pais\":\"Peru\"}\n",
    "\n",
    "print(diccionario['direccion'])\n"
   ]
  },
  {
   "cell_type": "code",
   "execution_count": 50,
   "metadata": {},
   "outputs": [
    {
     "name": "stdout",
     "output_type": "stream",
     "text": [
      "Calle A\n"
     ]
    }
   ],
   "source": [
    "print(diccionario.get('direccion'))"
   ]
  },
  {
   "cell_type": "code",
   "execution_count": 49,
   "metadata": {},
   "outputs": [],
   "source": [
    "diccionario['direccion'] = \"Calle A\""
   ]
  },
  {
   "cell_type": "code",
   "execution_count": 51,
   "metadata": {},
   "outputs": [],
   "source": [
    "diccionario['direccion'] = \"Calle B\""
   ]
  },
  {
   "cell_type": "code",
   "execution_count": 52,
   "metadata": {},
   "outputs": [
    {
     "name": "stdout",
     "output_type": "stream",
     "text": [
      "Calle B\n"
     ]
    }
   ],
   "source": [
    "print(diccionario.get('direccion'))"
   ]
  },
  {
   "cell_type": "code",
   "execution_count": 57,
   "metadata": {},
   "outputs": [
    {
     "name": "stdout",
     "output_type": "stream",
     "text": [
      "a\n",
      "b\n",
      "c\n",
      "d\n",
      "e\n",
      "f\n"
     ]
    }
   ],
   "source": [
    "for item in lista:\n",
    "    print(item)"
   ]
  },
  {
   "cell_type": "code",
   "execution_count": 54,
   "metadata": {},
   "outputs": [
    {
     "name": "stdout",
     "output_type": "stream",
     "text": [
      "a\n",
      "b\n",
      "c\n",
      "d\n",
      "e\n",
      "f\n"
     ]
    }
   ],
   "source": [
    "for item in tupla:\n",
    "    print(item)"
   ]
  },
  {
   "cell_type": "code",
   "execution_count": 58,
   "metadata": {},
   "outputs": [
    {
     "name": "stdout",
     "output_type": "stream",
     "text": [
      "nombre Jack\n",
      "edad 24\n",
      "pais Peru\n",
      "direccion Calle B\n"
     ]
    }
   ],
   "source": [
    "for clave, valor in diccionario.items():\n",
    "    print(clave, valor)"
   ]
  },
  {
   "cell_type": "code",
   "execution_count": 59,
   "metadata": {},
   "outputs": [
    {
     "name": "stdout",
     "output_type": "stream",
     "text": [
      "Jack\n",
      "24\n",
      "Peru\n",
      "Calle B\n"
     ]
    }
   ],
   "source": [
    "for clave in diccionario.keys():\n",
    "    print(diccionario[clave])"
   ]
  },
  {
   "cell_type": "markdown",
   "metadata": {},
   "source": [
    "# Control de flujo"
   ]
  },
  {
   "cell_type": "code",
   "execution_count": 65,
   "metadata": {},
   "outputs": [
    {
     "name": "stdout",
     "output_type": "stream",
     "text": [
      "El numero es positivo\n",
      "Siempre se ejecuta\n"
     ]
    }
   ],
   "source": [
    "# Control de flujo condicional\n",
    "numero = 7\n",
    "\n",
    "if numero > 0:\n",
    "    print(\"El numero es positivo\")\n",
    "print(\"Siempre se ejecuta\")"
   ]
  },
  {
   "cell_type": "code",
   "execution_count": 66,
   "metadata": {},
   "outputs": [
    {
     "name": "stdout",
     "output_type": "stream",
     "text": [
      "El numero es positivo\n",
      "El numero es mayor a 5\n",
      "Siempre se ejecuta\n"
     ]
    }
   ],
   "source": [
    "# if .... else ...\n",
    "if numero > 0:\n",
    "    print(\"El numero es positivo\")\n",
    "    if numero < 5:\n",
    "        print(\"El numero es menor a 5\")\n",
    "    else:\n",
    "        print(\"El numero es mayor a 5\")\n",
    "else:\n",
    "    print(\"El numero es negativo\")\n",
    "print(\"Siempre se ejecuta\")"
   ]
  },
  {
   "cell_type": "code",
   "execution_count": 70,
   "metadata": {},
   "outputs": [
    {
     "name": "stdout",
     "output_type": "stream",
     "text": [
      "El elemento de la lista es a\n",
      "El elemento de la lista es b\n",
      "El elemento de la lista es c\n",
      "El elemento de la lista es d\n",
      "El elemento de la lista es e\n",
      "El elemento de la lista es f\n"
     ]
    }
   ],
   "source": [
    "# Bucles \n",
    "for item in lista:\n",
    "    print(f\"El elemento de la lista es {item}\")"
   ]
  },
  {
   "cell_type": "code",
   "execution_count": 73,
   "metadata": {},
   "outputs": [
    {
     "name": "stdout",
     "output_type": "stream",
     "text": [
      "La suma es 55\n"
     ]
    }
   ],
   "source": [
    "#while\n",
    "n = 10\n",
    "sum = 0\n",
    "i = 1\n",
    "\n",
    "while i <= n:\n",
    "    sum = sum + i\n",
    "    i = i + 1\n",
    "\n",
    "print(f\"La suma es {sum}\")"
   ]
  },
  {
   "cell_type": "code",
   "execution_count": 76,
   "metadata": {},
   "outputs": [
    {
     "name": "stdout",
     "output_type": "stream",
     "text": [
      "Error\n",
      "division by zero\n"
     ]
    }
   ],
   "source": [
    "try:\n",
    "    print(234/0)\n",
    "except Exception as e:\n",
    "    print(\"Error\")\n",
    "    print(e)"
   ]
  },
  {
   "cell_type": "markdown",
   "metadata": {},
   "source": [
    "# Funciones"
   ]
  },
  {
   "cell_type": "code",
   "execution_count": 77,
   "metadata": {},
   "outputs": [
    {
     "name": "stdout",
     "output_type": "stream",
     "text": [
      "6\n"
     ]
    }
   ],
   "source": [
    "def funcion1(x):\n",
    "    return 2*x\n",
    "    \n",
    "y = funcion1(3)\n",
    "print(y)"
   ]
  },
  {
   "cell_type": "code",
   "execution_count": null,
   "metadata": {},
   "outputs": [],
   "source": [
    "def clean_data(dataset):\n",
    "    \"\"\"\n",
    "    describir que hace la funcion\n",
    "    parametros de entrada:\n",
    "\n",
    "    dataset: es un dataframe\n",
    "    list_colm: lista de columnas\n",
    "\n",
    "    Salida:\n",
    "\n",
    "    df: dataframe filtrado\n",
    "    \"\"\"\n",
    "    df = dataset.query(\"colum1 != null\")\n",
    "    df = df.select['columna1', 'columna2', 'columna3']\n",
    "    return df"
   ]
  }
 ],
 "metadata": {
  "kernelspec": {
   "display_name": "Python 3 (ipykernel)",
   "language": "python",
   "name": "python3"
  },
  "language_info": {
   "codemirror_mode": {
    "name": "ipython",
    "version": 3
   },
   "file_extension": ".py",
   "mimetype": "text/x-python",
   "name": "python",
   "nbconvert_exporter": "python",
   "pygments_lexer": "ipython3",
   "version": "3.10.13"
  }
 },
 "nbformat": 4,
 "nbformat_minor": 2
}
